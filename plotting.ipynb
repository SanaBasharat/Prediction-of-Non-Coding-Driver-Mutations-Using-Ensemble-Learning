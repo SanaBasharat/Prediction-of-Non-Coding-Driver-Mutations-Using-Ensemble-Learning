{
 "cells": [
  {
   "cell_type": "code",
   "execution_count": null,
   "metadata": {},
   "outputs": [],
   "source": [
    "import pandas as pd\n",
    "import numpy as np\n",
    "import matplotlib.pyplot as plt\n",
    "import seaborn as sns\n",
    "import yaml\n",
    "\n",
    "with open(\"configuration.yaml\", \"r\") as yml_file:\n",
    "    config = yaml.load(yml_file, yaml.Loader)"
   ]
  },
  {
   "cell_type": "code",
   "execution_count": null,
   "metadata": {},
   "outputs": [],
   "source": [
    "data = pd.read_csv('data/final_dataset.csv')\n",
    "\n",
    "data['TF_binding_site_agg'] = np.logical_or(data['TF_binding_site'], data['TF_binding_site_variant']).astype(int)\n",
    "\n",
    "data['TF_loss_add'] = data['TF_binding_site_agg'] + data['TF_loss']\n",
    "data['TF_gain_add'] = data['TF_binding_site_agg'] + data['TF_gain']\n",
    "data['TF_loss_diff_add'] = data['TF_binding_site_agg'] + data['TF_loss_diff']\n",
    "data['TF_gain_diff_add'] = data['TF_binding_site_agg'] + data['TF_gain_diff']\n",
    "\n",
    "data['SpliceAI_pred_DP_AG'] = abs(data['SpliceAI_pred_DP_AG'])\n",
    "data['SpliceAI_pred_DP_AL'] = abs(data['SpliceAI_pred_DP_AL'])\n",
    "data['SpliceAI_pred_DP_DG'] = abs(data['SpliceAI_pred_DP_DG'])\n",
    "data['SpliceAI_pred_DP_DL'] = abs(data['SpliceAI_pred_DP_DL'])"
   ]
  },
  {
   "cell_type": "code",
   "execution_count": null,
   "metadata": {},
   "outputs": [],
   "source": [
    "COLUMNS_TRAINING = config['COLUMNS_TRAINING']\n",
    "\n",
    "BIASED_COLUMNS = ['chr', 'ref_x', 'IG_C_gene', 'IG_D_gene', 'IG_J_gene', 'IG_J_pseudogene']\n",
    "\n",
    "COLUMNS_TRAINING = [x for x in COLUMNS_TRAINING if x not in BIASED_COLUMNS]\n",
    "for col in list(set(COLUMNS_TRAINING) - set(data.columns)):\n",
    "    data[col] = 0\n",
    "\n",
    "numeric_cols = data[COLUMNS_TRAINING].select_dtypes(include=['float64', 'int64', 'int32']).nunique()\n",
    "\n",
    "COLUMNS_TO_SHOW = numeric_cols[numeric_cols > 2].index  # pick numeric columns that are not one-hot encoded\n",
    "    \n",
    "COLUMN_LABELS = [item[:14] + '\\n' + item[14:] for item in COLUMNS_TO_SHOW]"
   ]
  },
  {
   "cell_type": "markdown",
   "metadata": {},
   "source": [
    "# Boxplot"
   ]
  },
  {
   "cell_type": "code",
   "execution_count": null,
   "metadata": {},
   "outputs": [],
   "source": [
    "fig, (ax1, ax2) = plt.subplots(nrows=2, ncols=1, figsize=(30, 30))\n",
    "\n",
    "bplot1 = ax1.boxplot(data[COLUMNS_TO_SHOW].iloc[:, 0:11],\n",
    "                     vert=True,\n",
    "                     patch_artist=True,\n",
    "                     boxprops = dict(facecolor = \"lightblue\"),\n",
    "                     capprops = dict(color = \"red\", linewidth = 4),\n",
    "                     labels=COLUMN_LABELS[0:11])\n",
    "\n",
    "bplot2 = ax2.boxplot(data[COLUMNS_TO_SHOW].iloc[:, 11:22],\n",
    "                     vert=True,\n",
    "                     patch_artist=True,\n",
    "                     boxprops = dict(facecolor = \"lightblue\"),\n",
    "                     capprops = dict(color = \"red\", linewidth = 4),\n",
    "                     labels=COLUMN_LABELS[11:22])\n",
    "\n",
    "# adding horizontal grid lines\n",
    "for ax in [ax1, ax2]:\n",
    "    ax.yaxis.grid(True)\n",
    "    ax.set_xlabel('Features', fontsize=20)\n",
    "    ax.set_ylabel('Normalized Observed values', fontsize=20)\n",
    "    ax.tick_params(axis='y', labelsize=20)\n",
    "    ax.tick_params(axis='x', labelsize=20)\n",
    "\n",
    "fig.suptitle('Boxplot Normalised Dataset', fontsize=30)\n",
    "fig.tight_layout(pad=2)\n",
    "plt.show()"
   ]
  },
  {
   "cell_type": "markdown",
   "metadata": {},
   "source": [
    "# Histogram"
   ]
  },
  {
   "cell_type": "code",
   "execution_count": null,
   "metadata": {},
   "outputs": [],
   "source": [
    "COLUMNS_TRAINING_LABELS = [item[:14] + '\\n' + item[14:] for item in COLUMNS_TRAINING]\n",
    "num = 8\n",
    "col = 0\n",
    "fig, axes = plt.subplots(nrows=8, ncols=8, figsize=(30, 30))\n",
    "for i in range(0, num):\n",
    "    for j in range(0, num):\n",
    "        colour_dict = {0: 'pink', 1: 'lightblue'}\n",
    "        axes[i][j].hist([data.loc[data['driver'] == x, COLUMNS_TRAINING[col]] for x in colour_dict.keys()],\n",
    "                color=[colour_dict[x] for x in colour_dict.keys()],\n",
    "                edgecolor='black',\n",
    "                stacked=True)\n",
    "        axes[i][j].set_xlabel(COLUMNS_TRAINING_LABELS[col], fontsize=20, wrap=True)\n",
    "        axes[i][j].tick_params(axis='y', labelsize=15)\n",
    "        axes[i][j].tick_params(axis='x', labelsize=15)\n",
    "\n",
    "        col = col + 1\n",
    "        if col >= len(COLUMNS_TRAINING):\n",
    "            break\n",
    "\n",
    "fig.suptitle('Histogram of Normalised Dataset', fontsize=30)\n",
    "fig.legend(colour_dict, labels=['non-driver', 'driver'], loc='upper left', ncol = 2, fontsize=20)\n",
    "fig.tight_layout(pad=2)"
   ]
  },
  {
   "cell_type": "markdown",
   "metadata": {},
   "source": [
    "# Correlation Matrix"
   ]
  },
  {
   "cell_type": "code",
   "execution_count": null,
   "metadata": {},
   "outputs": [],
   "source": [
    "COLUMNS_WITH_DRIVER = COLUMNS_TRAINING\n",
    "COLUMNS_WITH_DRIVER.append('driver')\n",
    "corr_matrix = data[COLUMNS_TRAINING].corr()\n",
    "matrix = np.triu(corr_matrix)\n",
    "sns.set(font_scale=0.6)\n",
    "# sns.set(rc={'figure.figsize':(11.7,8.27)})\n",
    "sns.set(rc={'figure.figsize':(30,30)})\n",
    "# sns.set(rc=)\n",
    "\n",
    "ax= sns.heatmap(corr_matrix, mask=matrix, vmin=-1, vmax=+1, center=0,\n",
    "            square=True, linewidths=.1, cbar_kws={\"shrink\": .82},annot=True,\n",
    "            fmt='.1',annot_kws={\"size\":7}, cmap='coolwarm')\n",
    "\n",
    "sns.set()\n",
    "for t in ax.texts:\n",
    "    if float(t.get_text())>=0.4 or float(t.get_text())<=-0.2:\n",
    "        t.set_text(t.get_text()) #if the value is greater than 0.4 then I set the text \n",
    "    else:\n",
    "        t.set_text(\"\") # if not it sets an empty text"
   ]
  },
  {
   "cell_type": "code",
   "execution_count": 12,
   "metadata": {},
   "outputs": [
    {
     "data": {
      "text/html": [
       "<div>\n",
       "<style scoped>\n",
       "    .dataframe tbody tr th:only-of-type {\n",
       "        vertical-align: middle;\n",
       "    }\n",
       "\n",
       "    .dataframe tbody tr th {\n",
       "        vertical-align: top;\n",
       "    }\n",
       "\n",
       "    .dataframe thead th {\n",
       "        text-align: right;\n",
       "    }\n",
       "</style>\n",
       "<table border=\"1\" class=\"dataframe\">\n",
       "  <thead>\n",
       "    <tr style=\"text-align: right;\">\n",
       "      <th></th>\n",
       "      <th>Variable</th>\n",
       "      <th>VIF</th>\n",
       "    </tr>\n",
       "  </thead>\n",
       "  <tbody>\n",
       "    <tr>\n",
       "      <th>76</th>\n",
       "      <td>driver</td>\n",
       "      <td>inf</td>\n",
       "    </tr>\n",
       "    <tr>\n",
       "      <th>21</th>\n",
       "      <td>regulatory_region_variant</td>\n",
       "      <td>inf</td>\n",
       "    </tr>\n",
       "    <tr>\n",
       "      <th>75</th>\n",
       "      <td>driver</td>\n",
       "      <td>inf</td>\n",
       "    </tr>\n",
       "    <tr>\n",
       "      <th>27</th>\n",
       "      <td>RegulatoryFeature</td>\n",
       "      <td>inf</td>\n",
       "    </tr>\n",
       "    <tr>\n",
       "      <th>40</th>\n",
       "      <td>CTCF_loops</td>\n",
       "      <td>518.226779</td>\n",
       "    </tr>\n",
       "    <tr>\n",
       "      <th>...</th>\n",
       "      <td>...</td>\n",
       "      <td>...</td>\n",
       "    </tr>\n",
       "    <tr>\n",
       "      <th>53</th>\n",
       "      <td>known_driver_gene_2kb_upstream</td>\n",
       "      <td>1.046584</td>\n",
       "    </tr>\n",
       "    <tr>\n",
       "      <th>42</th>\n",
       "      <td>DNA</td>\n",
       "      <td>1.038608</td>\n",
       "    </tr>\n",
       "    <tr>\n",
       "      <th>60</th>\n",
       "      <td>stop_lost</td>\n",
       "      <td>1.027196</td>\n",
       "    </tr>\n",
       "    <tr>\n",
       "      <th>51</th>\n",
       "      <td>known_driver_gene_10kb_upstream</td>\n",
       "      <td>1.025974</td>\n",
       "    </tr>\n",
       "    <tr>\n",
       "      <th>62</th>\n",
       "      <td>inframe_insertion</td>\n",
       "      <td>1.009177</td>\n",
       "    </tr>\n",
       "  </tbody>\n",
       "</table>\n",
       "<p>77 rows × 2 columns</p>\n",
       "</div>"
      ],
      "text/plain": [
       "                           Variable         VIF\n",
       "76                           driver         inf\n",
       "21        regulatory_region_variant         inf\n",
       "75                           driver         inf\n",
       "27                RegulatoryFeature         inf\n",
       "40                       CTCF_loops  518.226779\n",
       "..                              ...         ...\n",
       "53   known_driver_gene_2kb_upstream    1.046584\n",
       "42                              DNA    1.038608\n",
       "60                        stop_lost    1.027196\n",
       "51  known_driver_gene_10kb_upstream    1.025974\n",
       "62                inframe_insertion    1.009177\n",
       "\n",
       "[77 rows x 2 columns]"
      ]
     },
     "execution_count": 12,
     "metadata": {},
     "output_type": "execute_result"
    }
   ],
   "source": [
    "from statsmodels.stats.outliers_influence import variance_inflation_factor\n",
    "from statsmodels.tools.tools import add_constant\n",
    "\n",
    "def compute_vif(considered_features):\n",
    "    \n",
    "    X = data[considered_features]\n",
    "    # the calculation of variance inflation requires a constant\n",
    "    X['intercept'] = 1\n",
    "    \n",
    "    # create dataframe to store vif values\n",
    "    vif = pd.DataFrame()\n",
    "    vif[\"Variable\"] = X.columns\n",
    "    vif[\"VIF\"] = [variance_inflation_factor(X.values, i) for i in range(X.shape[1])]\n",
    "    vif = vif[vif['Variable']!='intercept']\n",
    "    return vif\n",
    "\n",
    "# compute vif \n",
    "vif = compute_vif(COLUMNS_TRAINING).sort_values('VIF', ascending=False)\n",
    "vif"
   ]
  },
  {
   "cell_type": "code",
   "execution_count": 15,
   "metadata": {},
   "outputs": [],
   "source": [
    "vif.to_csv('vif.csv', index=False)"
   ]
  },
  {
   "cell_type": "code",
   "execution_count": null,
   "metadata": {},
   "outputs": [],
   "source": [
    "data.fillna(0, inplace=True)"
   ]
  }
 ],
 "metadata": {
  "kernelspec": {
   "display_name": "ensemble",
   "language": "python",
   "name": "python3"
  },
  "language_info": {
   "codemirror_mode": {
    "name": "ipython",
    "version": 3
   },
   "file_extension": ".py",
   "mimetype": "text/x-python",
   "name": "python",
   "nbconvert_exporter": "python",
   "pygments_lexer": "ipython3",
   "version": "3.11.1"
  }
 },
 "nbformat": 4,
 "nbformat_minor": 2
}
