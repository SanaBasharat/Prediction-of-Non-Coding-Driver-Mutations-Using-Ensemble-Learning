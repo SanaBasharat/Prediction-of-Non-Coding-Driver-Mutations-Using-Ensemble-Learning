{
 "cells": [
  {
   "cell_type": "code",
   "execution_count": 1,
   "metadata": {},
   "outputs": [
    {
     "name": "stdout",
     "output_type": "stream",
     "text": [
      "VEP file is converted to bed format!\n"
     ]
    },
    {
     "ename": "FileExistsError",
     "evalue": "the input fasta file genome_assembly/hg19.fa.gz does not exists",
     "output_type": "error",
     "traceback": [
      "\u001b[1;31m---------------------------------------------------------------------------\u001b[0m",
      "\u001b[1;31mFileExistsError\u001b[0m                           Traceback (most recent call last)",
      "Cell \u001b[1;32mIn[1], line 1\u001b[0m\n\u001b[1;32m----> 1\u001b[0m \u001b[39mfrom\u001b[39;00m \u001b[39mTF_model\u001b[39;00m \u001b[39mimport\u001b[39;00m \u001b[39m*\u001b[39m\n\u001b[0;32m      2\u001b[0m \u001b[39mimport\u001b[39;00m \u001b[39mpandas\u001b[39;00m \u001b[39mas\u001b[39;00m \u001b[39mpd\u001b[39;00m\n\u001b[0;32m      3\u001b[0m \u001b[39mimport\u001b[39;00m \u001b[39mnumpy\u001b[39;00m \u001b[39mas\u001b[39;00m \u001b[39mnp\u001b[39;00m\n",
      "File \u001b[1;32md:\\Masters Thesis\\GitHub Repo\\TF-binding Effect Prediction\\TF_model.py:366\u001b[0m\n\u001b[0;32m    363\u001b[0m \u001b[39m#-------------------------------------------------------------------------------------------------------------------\u001b[39;00m\n\u001b[0;32m    365\u001b[0m bed_format \u001b[39m=\u001b[39m vep_to_bed(\u001b[39m\"\u001b[39m\u001b[39m../data/dataset_uncensored.csv\u001b[39m\u001b[39m\"\u001b[39m) \u001b[39m# convert bed_file\u001b[39;00m\n\u001b[1;32m--> 366\u001b[0m bed_to_seq(\u001b[39m\"\u001b[39;49m\u001b[39m../data/dataset_uncensored.csv\u001b[39;49m\u001b[39m\"\u001b[39;49m,\u001b[39m\"\u001b[39;49m\u001b[39mvep_to_bed.txt\u001b[39;49m\u001b[39m\"\u001b[39;49m,\u001b[39m\"\u001b[39;49m\u001b[39mhg19\u001b[39;49m\u001b[39m\"\u001b[39;49m,\u001b[39m\"\u001b[39;49m\u001b[39mvep_noncoding\u001b[39;49m\u001b[39m\"\u001b[39;49m) \u001b[39m# convert seq-info file\u001b[39;00m\n\u001b[0;32m    367\u001b[0m vep_seq \u001b[39m=\u001b[39m pd\u001b[39m.\u001b[39mread_csv(\u001b[39m\"\u001b[39m\u001b[39mVEP_seq.csv\u001b[39m\u001b[39m\"\u001b[39m) \u001b[39m# vep file including offset sequences\u001b[39;00m\n\u001b[0;32m    369\u001b[0m \u001b[39mdef\u001b[39;00m \u001b[39mmain_flow\u001b[39m(vep_seq):\n",
      "File \u001b[1;32md:\\Masters Thesis\\GitHub Repo\\TF-binding Effect Prediction\\TF_model.py:302\u001b[0m, in \u001b[0;36mbed_to_seq\u001b[1;34m(vep_file, bed_file, genome, id)\u001b[0m\n\u001b[0;32m    301\u001b[0m \u001b[39mdef\u001b[39;00m \u001b[39mbed_to_seq\u001b[39m(vep_file,bed_file,genome,\u001b[39mid\u001b[39m):\n\u001b[1;32m--> 302\u001b[0m     ref_genome \u001b[39m=\u001b[39m pyfastx\u001b[39m.\u001b[39;49mFasta(\u001b[39mf\u001b[39;49m\u001b[39m\"\u001b[39;49m\u001b[39mgenome_assembly/\u001b[39;49m\u001b[39m{\u001b[39;49;00mgenome\u001b[39m}\u001b[39;49;00m\u001b[39m.fa.gz\u001b[39;49m\u001b[39m\"\u001b[39;49m)\n\u001b[0;32m    303\u001b[0m     \u001b[39mwith\u001b[39;00m \u001b[39mopen\u001b[39m(bed_file, \u001b[39m\"\u001b[39m\u001b[39mr\u001b[39m\u001b[39m\"\u001b[39m) \u001b[39mas\u001b[39;00m bed_data, \u001b[39mopen\u001b[39m(\u001b[39mf\u001b[39m\u001b[39m\"\u001b[39m\u001b[39m{\u001b[39;00m\u001b[39mid\u001b[39m\u001b[39m}\u001b[39;00m\u001b[39m_fasta.txt\u001b[39m\u001b[39m\"\u001b[39m, \u001b[39m\"\u001b[39m\u001b[39mw\u001b[39m\u001b[39m\"\u001b[39m) \u001b[39mas\u001b[39;00m output_file: \u001b[39m# bed to fasta format\u001b[39;00m\n\u001b[0;32m    304\u001b[0m         \u001b[39mfor\u001b[39;00m line \u001b[39min\u001b[39;00m bed_data:\n",
      "\u001b[1;31mFileExistsError\u001b[0m: the input fasta file genome_assembly/hg19.fa.gz does not exists"
     ]
    }
   ],
   "source": [
    "from TF_model import *\n",
    "import pandas as pd\n",
    "import numpy as np"
   ]
  },
  {
   "cell_type": "code",
   "execution_count": 5,
   "metadata": {},
   "outputs": [
    {
     "ename": "KeyError",
     "evalue": "'chr'",
     "output_type": "error",
     "traceback": [
      "\u001b[1;31m---------------------------------------------------------------------------\u001b[0m",
      "\u001b[1;31mKeyError\u001b[0m                                  Traceback (most recent call last)",
      "File \u001b[1;32mc:\\ProgramData\\anaconda3\\envs\\ensemble\\lib\\site-packages\\pandas\\core\\indexes\\base.py:3802\u001b[0m, in \u001b[0;36mIndex.get_loc\u001b[1;34m(self, key, method, tolerance)\u001b[0m\n\u001b[0;32m   3801\u001b[0m \u001b[39mtry\u001b[39;00m:\n\u001b[1;32m-> 3802\u001b[0m     \u001b[39mreturn\u001b[39;00m \u001b[39mself\u001b[39;49m\u001b[39m.\u001b[39;49m_engine\u001b[39m.\u001b[39;49mget_loc(casted_key)\n\u001b[0;32m   3803\u001b[0m \u001b[39mexcept\u001b[39;00m \u001b[39mKeyError\u001b[39;00m \u001b[39mas\u001b[39;00m err:\n",
      "File \u001b[1;32mc:\\ProgramData\\anaconda3\\envs\\ensemble\\lib\\site-packages\\pandas\\_libs\\index.pyx:138\u001b[0m, in \u001b[0;36mpandas._libs.index.IndexEngine.get_loc\u001b[1;34m()\u001b[0m\n",
      "File \u001b[1;32mc:\\ProgramData\\anaconda3\\envs\\ensemble\\lib\\site-packages\\pandas\\_libs\\index.pyx:165\u001b[0m, in \u001b[0;36mpandas._libs.index.IndexEngine.get_loc\u001b[1;34m()\u001b[0m\n",
      "File \u001b[1;32mpandas\\_libs\\hashtable_class_helper.pxi:5745\u001b[0m, in \u001b[0;36mpandas._libs.hashtable.PyObjectHashTable.get_item\u001b[1;34m()\u001b[0m\n",
      "File \u001b[1;32mpandas\\_libs\\hashtable_class_helper.pxi:5753\u001b[0m, in \u001b[0;36mpandas._libs.hashtable.PyObjectHashTable.get_item\u001b[1;34m()\u001b[0m\n",
      "\u001b[1;31mKeyError\u001b[0m: 'chr'",
      "\nThe above exception was the direct cause of the following exception:\n",
      "\u001b[1;31mKeyError\u001b[0m                                  Traceback (most recent call last)",
      "Cell \u001b[1;32mIn[5], line 1\u001b[0m\n\u001b[1;32m----> 1\u001b[0m \u001b[39mfrom\u001b[39;00m \u001b[39mTF_model\u001b[39;00m \u001b[39mimport\u001b[39;00m vep_to_bed, bed_to_seq\n\u001b[0;32m      2\u001b[0m bed_format \u001b[39m=\u001b[39m vep_to_bed(\u001b[39m\"\u001b[39m\u001b[39m../data/final_dataset.csv\u001b[39m\u001b[39m\"\u001b[39m)\n",
      "File \u001b[1;32md:\\Masters Thesis\\GitHub Repo\\TF-binding Effect Prediction\\TF_model.py:364\u001b[0m\n\u001b[0;32m    360\u001b[0m     vcf_seq\u001b[39m.\u001b[39mto_csv(\u001b[39mf\u001b[39m\u001b[39m\"\u001b[39m\u001b[39mvep_loss_gain_data_\u001b[39m\u001b[39m{\u001b[39;00malpha\u001b[39m}\u001b[39;00m\u001b[39m.csv\u001b[39m\u001b[39m\"\u001b[39m,index\u001b[39m=\u001b[39m\u001b[39mFalse\u001b[39;00m)\n\u001b[0;32m    362\u001b[0m \u001b[39m#-------------------------------------------------------------------------------------------------------------------\u001b[39;00m\n\u001b[1;32m--> 364\u001b[0m bed_format \u001b[39m=\u001b[39m vep_to_bed(\u001b[39m\"\u001b[39;49m\u001b[39m../data/final_dataset.csv\u001b[39;49m\u001b[39m\"\u001b[39;49m) \u001b[39m# convert bed_file\u001b[39;00m\n\u001b[0;32m    365\u001b[0m bed_to_seq(\u001b[39m\"\u001b[39m\u001b[39m../data/final_dataset.csv\u001b[39m\u001b[39m\"\u001b[39m,\u001b[39m\"\u001b[39m\u001b[39mvep_to_bed.txt\u001b[39m\u001b[39m\"\u001b[39m,\u001b[39m\"\u001b[39m\u001b[39mhg19\u001b[39m\u001b[39m\"\u001b[39m,\u001b[39m\"\u001b[39m\u001b[39mvep_noncoding\u001b[39m\u001b[39m\"\u001b[39m) \u001b[39m# convert seq-info file\u001b[39;00m\n\u001b[0;32m    366\u001b[0m vep_seq \u001b[39m=\u001b[39m pd\u001b[39m.\u001b[39mread_csv(\u001b[39m\"\u001b[39m\u001b[39mVEP_seq.csv\u001b[39m\u001b[39m\"\u001b[39m) \u001b[39m# vep file including offset sequences\u001b[39;00m\n",
      "File \u001b[1;32md:\\Masters Thesis\\GitHub Repo\\TF-binding Effect Prediction\\TF_model.py:288\u001b[0m, in \u001b[0;36mvep_to_bed\u001b[1;34m(vep_file)\u001b[0m\n\u001b[0;32m    286\u001b[0m vep_data\u001b[39m.\u001b[39mdrop_duplicates(inplace\u001b[39m=\u001b[39m\u001b[39mTrue\u001b[39;00m) \u001b[39m# duplications available\u001b[39;00m\n\u001b[0;32m    287\u001b[0m vep_data \u001b[39m=\u001b[39m vep_data\u001b[39m.\u001b[39mreset_index(drop\u001b[39m=\u001b[39m\u001b[39mTrue\u001b[39;00m)\n\u001b[1;32m--> 288\u001b[0m vep_data[\u001b[39m\"\u001b[39m\u001b[39mchr\u001b[39m\u001b[39m\"\u001b[39m] \u001b[39m=\u001b[39m \u001b[39m\"\u001b[39m\u001b[39mchr\u001b[39m\u001b[39m\"\u001b[39m \u001b[39m+\u001b[39m vep_data[\u001b[39m\"\u001b[39;49m\u001b[39mchr\u001b[39;49m\u001b[39m\"\u001b[39;49m] \u001b[39m# adding chr format for MEME tool\u001b[39;00m\n\u001b[0;32m    289\u001b[0m vep_data[\u001b[39m\"\u001b[39m\u001b[39mstart\u001b[39m\u001b[39m\"\u001b[39m] \u001b[39m=\u001b[39m vep_data[\u001b[39m\"\u001b[39m\u001b[39mstart\u001b[39m\u001b[39m\"\u001b[39m]\u001b[39m-\u001b[39m\u001b[39m1\u001b[39m \u001b[39m# bed format\u001b[39;00m\n\u001b[0;32m    291\u001b[0m ind \u001b[39m=\u001b[39m vep_data[vep_data[\u001b[39m\"\u001b[39m\u001b[39mchr\u001b[39m\u001b[39m\"\u001b[39m] \u001b[39m==\u001b[39m \u001b[39m\"\u001b[39m\u001b[39mchrUn_KI270742v1\u001b[39m\u001b[39m\"\u001b[39m]\u001b[39m.\u001b[39mindex[\u001b[39m0\u001b[39m] \u001b[39m# discard alternative chr variant\u001b[39;00m\n",
      "File \u001b[1;32mc:\\ProgramData\\anaconda3\\envs\\ensemble\\lib\\site-packages\\pandas\\core\\frame.py:3807\u001b[0m, in \u001b[0;36mDataFrame.__getitem__\u001b[1;34m(self, key)\u001b[0m\n\u001b[0;32m   3805\u001b[0m \u001b[39mif\u001b[39;00m \u001b[39mself\u001b[39m\u001b[39m.\u001b[39mcolumns\u001b[39m.\u001b[39mnlevels \u001b[39m>\u001b[39m \u001b[39m1\u001b[39m:\n\u001b[0;32m   3806\u001b[0m     \u001b[39mreturn\u001b[39;00m \u001b[39mself\u001b[39m\u001b[39m.\u001b[39m_getitem_multilevel(key)\n\u001b[1;32m-> 3807\u001b[0m indexer \u001b[39m=\u001b[39m \u001b[39mself\u001b[39;49m\u001b[39m.\u001b[39;49mcolumns\u001b[39m.\u001b[39;49mget_loc(key)\n\u001b[0;32m   3808\u001b[0m \u001b[39mif\u001b[39;00m is_integer(indexer):\n\u001b[0;32m   3809\u001b[0m     indexer \u001b[39m=\u001b[39m [indexer]\n",
      "File \u001b[1;32mc:\\ProgramData\\anaconda3\\envs\\ensemble\\lib\\site-packages\\pandas\\core\\indexes\\base.py:3804\u001b[0m, in \u001b[0;36mIndex.get_loc\u001b[1;34m(self, key, method, tolerance)\u001b[0m\n\u001b[0;32m   3802\u001b[0m     \u001b[39mreturn\u001b[39;00m \u001b[39mself\u001b[39m\u001b[39m.\u001b[39m_engine\u001b[39m.\u001b[39mget_loc(casted_key)\n\u001b[0;32m   3803\u001b[0m \u001b[39mexcept\u001b[39;00m \u001b[39mKeyError\u001b[39;00m \u001b[39mas\u001b[39;00m err:\n\u001b[1;32m-> 3804\u001b[0m     \u001b[39mraise\u001b[39;00m \u001b[39mKeyError\u001b[39;00m(key) \u001b[39mfrom\u001b[39;00m \u001b[39merr\u001b[39;00m\n\u001b[0;32m   3805\u001b[0m \u001b[39mexcept\u001b[39;00m \u001b[39mTypeError\u001b[39;00m:\n\u001b[0;32m   3806\u001b[0m     \u001b[39m# If we have a listlike key, _check_indexing_error will raise\u001b[39;00m\n\u001b[0;32m   3807\u001b[0m     \u001b[39m#  InvalidIndexError. Otherwise we fall through and re-raise\u001b[39;00m\n\u001b[0;32m   3808\u001b[0m     \u001b[39m#  the TypeError.\u001b[39;00m\n\u001b[0;32m   3809\u001b[0m     \u001b[39mself\u001b[39m\u001b[39m.\u001b[39m_check_indexing_error(key)\n",
      "\u001b[1;31mKeyError\u001b[0m: 'chr'"
     ]
    }
   ],
   "source": [
    "from TF_model import vep_to_bed, bed_to_seq\n",
    "bed_format = vep_to_bed(\"../data/final_dataset.csv\") # convert bed_file\n",
    "bed_to_seq(\"../data/final_dataset.csv\",\"vep_to_bed.txt\",\"hg19\",\"vep_noncoding\") # convert seq-info file\n",
    "vep_seq = pd.read_csv(\"VEP_seq.csv\") # vep file including offset sequences\n"
   ]
  },
  {
   "cell_type": "code",
   "execution_count": 2,
   "metadata": {},
   "outputs": [],
   "source": [
    "import pandas as pd\n",
    "vep_data = pd.read_csv(\"../data/dataset_uncensored.csv\")\n",
    "# vep_data.drop_duplicates(inplace=True) # duplications available\n",
    "# vep_data = vep_data.reset_index(drop=True)\n",
    "# vep_data[\"chr\"] = \"chr\" + vep_data[\"chr\"] # adding chr format for MEME tool\n",
    "# vep_data[\"start\"] = vep_data[\"start\"]-1 # bed format"
   ]
  },
  {
   "cell_type": "code",
   "execution_count": 6,
   "metadata": {},
   "outputs": [
    {
     "data": {
      "text/plain": [
       "0"
      ]
     },
     "execution_count": 6,
     "metadata": {},
     "output_type": "execute_result"
    }
   ],
   "source": [
    "len(vep_data[vep_data[\"chr\"] == \"chrUn_KI270742v1\"])"
   ]
  },
  {
   "cell_type": "code",
   "execution_count": 2,
   "metadata": {},
   "outputs": [
    {
     "ename": "NameError",
     "evalue": "name 'vep_to_bed' is not defined",
     "output_type": "error",
     "traceback": [
      "\u001b[1;31m---------------------------------------------------------------------------\u001b[0m",
      "\u001b[1;31mNameError\u001b[0m                                 Traceback (most recent call last)",
      "Cell \u001b[1;32mIn[2], line 1\u001b[0m\n\u001b[1;32m----> 1\u001b[0m bed_format \u001b[39m=\u001b[39m vep_to_bed(\u001b[39m\"\u001b[39m\u001b[39mfinal_dataset.csv\u001b[39m\u001b[39m\"\u001b[39m) \u001b[39m# convert bed_file\u001b[39;00m\n\u001b[0;32m      2\u001b[0m bed_to_seq(\u001b[39m\"\u001b[39m\u001b[39mfinal_dataset.csv\u001b[39m\u001b[39m\"\u001b[39m,\u001b[39m\"\u001b[39m\u001b[39mvep_to_bed.txt\u001b[39m\u001b[39m\"\u001b[39m,\u001b[39m\"\u001b[39m\u001b[39mhg19\u001b[39m\u001b[39m\"\u001b[39m,\u001b[39m\"\u001b[39m\u001b[39mvep_noncoding\u001b[39m\u001b[39m\"\u001b[39m) \u001b[39m# convert seq-info file\u001b[39;00m\n\u001b[0;32m      3\u001b[0m vep_seq \u001b[39m=\u001b[39m pd\u001b[39m.\u001b[39mread_csv(\u001b[39m\"\u001b[39m\u001b[39mVEP_seq.csv\u001b[39m\u001b[39m\"\u001b[39m)\n",
      "\u001b[1;31mNameError\u001b[0m: name 'vep_to_bed' is not defined"
     ]
    }
   ],
   "source": [
    "bed_format = vep_to_bed(\"final_dataset.csv\") # convert bed_file\n",
    "bed_to_seq(\"final_dataset.csv\",\"vep_to_bed.txt\",\"hg19\",\"vep_noncoding\") # convert seq-info file\n",
    "vep_seq = pd.read_csv(\"VEP_seq.csv\") # vep file including offset sequences\n"
   ]
  }
 ],
 "metadata": {
  "kernelspec": {
   "display_name": "ensemble",
   "language": "python",
   "name": "python3"
  },
  "language_info": {
   "codemirror_mode": {
    "name": "ipython",
    "version": 3
   },
   "file_extension": ".py",
   "mimetype": "text/x-python",
   "name": "python",
   "nbconvert_exporter": "python",
   "pygments_lexer": "ipython3",
   "version": "3.10.11"
  },
  "orig_nbformat": 4
 },
 "nbformat": 4,
 "nbformat_minor": 2
}
